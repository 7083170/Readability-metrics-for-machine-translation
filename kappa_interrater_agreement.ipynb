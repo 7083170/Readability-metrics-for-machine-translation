{
 "cells": [
  {
   "cell_type": "code",
   "execution_count": 1,
   "id": "402e18a8",
   "metadata": {},
   "outputs": [],
   "source": [
    "from collections import Counter\n",
    "\n",
    "import pandas as pd\n",
    "\n",
    "from sklearn.metrics import cohen_kappa_score"
   ]
  },
  {
   "cell_type": "code",
   "execution_count": 2,
   "id": "2bcf0c35",
   "metadata": {},
   "outputs": [
    {
     "name": "stdout",
     "output_type": "stream",
     "text": [
      "Number of rows: 213\n",
      "Number of sentences: 213\n",
      "\n",
      "Number of interraters: 5\n",
      "Countrate per interrater: 17.2\n",
      "Number of questions done: 86\n"
     ]
    }
   ],
   "source": [
    "# Loading the main dataset with mine scores\n",
    "df_main = pd.read_csv('data/dataset_classification.csv', index_col=0)\n",
    "\n",
    "# printing some information about the main dataset\n",
    "print(\"Number of rows:\", len(df_main))\n",
    "print(\"Number of sentences:\", len(set(df_main['question_id'].to_list())))\n",
    "print()\n",
    "\n",
    "# Loading the interraters dataset with their scores\n",
    "df_interraters = pd.read_csv(\"data/dataset_interraters.csv\", index_col=0)\n",
    "\n",
    "# printing some information about the interrater dataset\n",
    "interraters = list(set(df_interraters['respondent_id'].to_list()))\n",
    "print(\"Number of interraters:\", len(interraters))\n",
    "print(\"Countrate per interrater:\", len(df_interraters)/len(interraters))\n",
    "print(\"Number of questions done:\", len(df_interraters))"
   ]
  },
  {
   "cell_type": "code",
   "execution_count": 3,
   "id": "84690152",
   "metadata": {},
   "outputs": [
    {
     "name": "stdout",
     "output_type": "stream",
     "text": [
      "0.6315163056415138\n"
     ]
    }
   ],
   "source": [
    "rater1 = []\n",
    "rater2 = []\n",
    "\n",
    "for i, (index, row) in enumerate(df_interraters.iterrows()):\n",
    "\n",
    "    other_ranking = df_main[df_main['question_id'] == row['question_id']].to_dict()\n",
    "    key = list(other_ranking['respondent_id'].keys())[0]\n",
    "\n",
    "    rater1.append(other_ranking['ranking'][key].split(',')[0])\n",
    "    rater2.append(row['ranking'].split(',')[0])\n",
    "    if rater1[-1] != rater2[-1]:\n",
    "        if (row['opmerkingen'] == \"Ik vind dat ze alle 3 even goed zijn\" and other_ranking['opmerkingen'][key] == \"Ik vind dat ze alle 3 even goed zijn\"):\n",
    "            rater1[-1] = rater2[-1]\n",
    "        elif (row['opmerkingen'] == \"Ik twijfel tussen nummer 1 en 2\" and other_ranking['opmerkingen'][key] == \"Ik twijfel tussen nummer 1 en 2\") and \\\n",
    "            sorted(row['ranking'].split(',')[0:2]) == sorted(other_ranking['ranking'][key].split(',')[0:2]):\n",
    "            rater2[-1] = rater1[-1]\n",
    "        elif (row['opmerkingen'] == \"Ik twijfel tussen nummer 1 en 2\" or other_ranking['opmerkingen'][key] == \"Ik twijfel tussen nummer 1 en 2\"):\n",
    "            if other_ranking['opmerkingen'][key] == \"Ik twijfel tussen nummer 1 en 2\" and row['ranking'].split(',')[0] in other_ranking['ranking'][key].split(',')[0:2]:\n",
    "                rater1[-1] = rater2[-1]\n",
    "            elif row['opmerkingen'] == \"Ik twijfel tussen nummer 1 en 2\" and other_ranking['ranking'][key].split(',')[0] in row['ranking'].split(',')[0:2]:\n",
    "                rater2[-1] = rater1[-1]\n",
    "print(cohen_kappa_score(rater1, rater2))"
   ]
  },
  {
   "cell_type": "code",
   "execution_count": 4,
   "id": "8779eca6",
   "metadata": {},
   "outputs": [
    {
     "data": {
      "text/plain": [
       "[('Geen extra informatie', 61),\n",
       " ('Ik twijfel tussen nummer 2 en 3', 12),\n",
       " ('Ik twijfel tussen nummer 1 en 2', 8),\n",
       " ('Ik vind dat ze alle 3 even goed zijn', 5)]"
      ]
     },
     "execution_count": 4,
     "metadata": {},
     "output_type": "execute_result"
    }
   ],
   "source": [
    "# Opmerkingen interraters\n",
    "Counter(df_interraters['opmerkingen']).most_common()"
   ]
  },
  {
   "cell_type": "code",
   "execution_count": 5,
   "id": "82f9bdbe",
   "metadata": {},
   "outputs": [
    {
     "data": {
      "text/plain": [
       "[('Geen extra informatie', 113),\n",
       " ('Ik twijfel tussen nummer 1 en 2', 39),\n",
       " ('Ik twijfel tussen nummer 2 en 3', 33),\n",
       " ('Ik vind dat ze alle 3 even goed zijn', 28)]"
      ]
     },
     "execution_count": 5,
     "metadata": {},
     "output_type": "execute_result"
    }
   ],
   "source": [
    "# Opmerkingen main\n",
    "Counter(df_main['opmerkingen']).most_common()"
   ]
  }
 ],
 "metadata": {
  "kernelspec": {
   "display_name": "Python 3 (ipykernel)",
   "language": "python",
   "name": "python3"
  },
  "language_info": {
   "codemirror_mode": {
    "name": "ipython",
    "version": 3
   },
   "file_extension": ".py",
   "mimetype": "text/x-python",
   "name": "python",
   "nbconvert_exporter": "python",
   "pygments_lexer": "ipython3",
   "version": "3.8.10"
  }
 },
 "nbformat": 4,
 "nbformat_minor": 5
}
